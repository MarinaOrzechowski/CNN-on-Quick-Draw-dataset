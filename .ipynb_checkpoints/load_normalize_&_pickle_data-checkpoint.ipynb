{
 "cells": [
  {
   "cell_type": "markdown",
   "metadata": {
    "colab_type": "text",
    "id": "view-in-github"
   },
   "source": [
    "<a href=\"https://colab.research.google.com/github/MarinaOrzechowski/CNN-on-Quick-Draw-dataset/blob/master/load_normalize_%26_pickle_data.ipynb\" target=\"_parent\"><img src=\"https://colab.research.google.com/assets/colab-badge.svg\" alt=\"Open In Colab\"/></a>"
   ]
  },
  {
   "cell_type": "markdown",
   "metadata": {
    "colab_type": "text",
    "id": "E0Bx-WB1-CLx"
   },
   "source": [
    "#<center>**Load the data**</center>\n",
    "\n",
    "The data was taken from Quick, Draw! dataset: https://github.com/googlecreativelab/quickdraw-dataset .\n",
    "\n",
    "The Quick Draw Dataset is a collection of 50 million drawings across 345 categories, contributed by players of the game Quick, Draw!. The drawings were captured as timestamped vectors, tagged with metadata including what the player was asked to draw and in which country the player was located. You can browse the recognized drawings on [quickdraw.withgoogle.com/data](https://).\n",
    "\n",
    "For our project we will use a preprocessed dataset in .npy format. Each file includes >100000 images of a specific category. The total dataset size is 37 Gb, which is very difficult to work with.Therefore, we reduced the number of images for each category to 10000 (reduce_dataset.py) and the total dataset size to 2.5 Gb. However, Google Colab RAM of 25.5 Gb wasn't enough to process all 345 categories, so we are planning to consider only 100. Currently it is 10 for, just for education purpose. \n",
    "\n",
    "Next step is to load the data and pickle it."
   ]
  },
  {
   "cell_type": "code",
   "execution_count": 4,
   "metadata": {
    "colab": {
     "base_uri": "https://localhost:8080/",
     "height": 122
    },
    "colab_type": "code",
    "id": "FU1tfXLUf813",
    "outputId": "d4ae0f3f-f966-4554-ae9f-43211126196c"
   },
   "outputs": [],
   "source": [
    "import numpy as np\n",
    "import os\n",
    "import pickle\n",
    "\n",
    "import matplotlib.pyplot as plt\n",
    "%matplotlib inline"
   ]
  },
  {
   "cell_type": "code",
   "execution_count": 5,
   "metadata": {
    "colab": {
     "base_uri": "https://localhost:8080/",
     "height": 34
    },
    "colab_type": "code",
    "id": "rgSZ44bMgA_l",
    "outputId": "40dbeb5a-31ae-4ff2-9b1b-5d49aec119c4"
   },
   "outputs": [
    {
     "name": "stdout",
     "output_type": "stream",
     "text": [
      "['airplane.npy', 'apple.npy', 'car.npy', 'fish.npy', 'giraffe.npy', 'ice cream.npy', 'key.npy', 'octopus.npy', 'sheep.npy', 'umbrella.npy']\n"
     ]
    }
   ],
   "source": [
    "files = os.listdir(r\"C:\\Users\\mskac\\machineLearning\\CNN-on-Quick-Draw-dataset\\data\\short\")\n",
    "img_per_category = 15000\n",
    "num_of_categories = 10\n",
    "x = []\n",
    "x_load = []\n",
    "y = []\n",
    "y_load = []\n",
    "print(files)"
   ]
  },
  {
   "cell_type": "markdown",
   "metadata": {
    "colab_type": "text",
    "id": "W4DmEcY0-RGQ"
   },
   "source": [
    "Lets see how some of the images look like:"
   ]
  },
  {
   "cell_type": "code",
   "execution_count": 15,
   "metadata": {
    "colab": {
     "base_uri": "https://localhost:8080/",
     "height": 224
    },
    "colab_type": "code",
    "id": "memnOhNwoa12",
    "outputId": "b7b39392-ea34-4a67-a3ab-0e37475e126f"
   },
   "outputs": [
    {
     "data": {
      "image/png": "[encoded data removed]",
      "text/plain": [
       "<Figure size 432x288 with 10 Axes>"
      ]
     },
     "metadata": {},
     "output_type": "display_data"
    }
   ],
   "source": [
    "# test print. how the data looks like?\n",
    "file = \"C:/Users/mskac/machineLearning/CNN-on-Quick-Draw-dataset/data/short/\" + files[8]\n",
    "x_test = np.load(file) #returns an array of lists(images) with 784 elements(coordinates) in each (flattened 28x28)\n",
    "x_test = x_test.reshape(x_test.shape[0], 28,28)\n",
    "\n",
    "fig, ax = plt.subplots(nrows=2, ncols=5, sharex=True, sharey=True)\n",
    "ax = ax.flatten()\n",
    "for i in range(10):\n",
    "    img = x_test[i].reshape(28, 28)\n",
    "    ax[i].imshow(img, cmap='Greys', interpolation='nearest')\n",
    "ax[0].set_xticks([])\n",
    "ax[0].set_yticks([])\n",
    "plt.tight_layout()\n",
    "plt.show()"
   ]
  },
  {
   "cell_type": "code",
   "execution_count": 16,
   "metadata": {
    "colab": {},
    "colab_type": "code",
    "id": "lJo-9Oh2plDZ"
   },
   "outputs": [],
   "source": [
    "def load_data():\n",
    "    '''function which reads each data file in the testdata directory and extracts lists of pixels'''\n",
    "    x_load.clear()\n",
    "    y_load.clear()\n",
    "    count = 0\n",
    "    for num, file in enumerate(files[:num_of_categories]):\n",
    "        file = \"C:/Users/mskac/machineLearning/CNN-on-Quick-Draw-dataset/data/short/\" + file\n",
    "        x = np.load(file)\n",
    "        x = x.astype('float32') / 255. #normalize data\n",
    "        x = x[:img_per_category, :] # consider only first 10000 images for each category\n",
    "        x_load.append(x)\n",
    "        y = [count for _ in range(img_per_category)]\n",
    "        count += 1\n",
    "        y = np.array(y).astype('float32')\n",
    "        y_load.append(y)\n",
    "\n",
    "    return x_load, y_load"
   ]
  },
  {
   "cell_type": "code",
   "execution_count": 17,
   "metadata": {
    "colab": {},
    "colab_type": "code",
    "id": "mWyaSmJ0pmTV"
   },
   "outputs": [],
   "source": [
    "images, labels = load_data()\n",
    "images = np.array(images).astype('float32')\n",
    "labels = np.array(labels).astype('float32')"
   ]
  },
  {
   "cell_type": "code",
   "execution_count": 18,
   "metadata": {
    "colab": {
     "base_uri": "https://localhost:8080/",
     "height": 51
    },
    "colab_type": "code",
    "id": "8qYiCiVl_MUa",
    "outputId": "cc0dfdbd-edf7-4b8f-99a0-eec88effedf1"
   },
   "outputs": [
    {
     "name": "stdout",
     "output_type": "stream",
     "text": [
      "(10, 15000, 784)\n",
      "(10, 15000)\n"
     ]
    }
   ],
   "source": [
    "print(images.shape)\n",
    "print(labels.shape)"
   ]
  },
  {
   "cell_type": "markdown",
   "metadata": {
    "colab_type": "text",
    "id": "fq0ucYhXEkPV"
   },
   "source": [
    "Reshape data:"
   ]
  },
  {
   "cell_type": "code",
   "execution_count": 19,
   "metadata": {
    "colab": {},
    "colab_type": "code",
    "id": "1Q8Ky9r_2uTm"
   },
   "outputs": [],
   "source": [
    "images=images.reshape(images.shape[0]*images.shape[1],images.shape[2])\n",
    "labels=labels.reshape(labels.shape[0]*labels.shape[1])"
   ]
  },
  {
   "cell_type": "code",
   "execution_count": 20,
   "metadata": {
    "colab": {
     "base_uri": "https://localhost:8080/",
     "height": 51
    },
    "colab_type": "code",
    "id": "8Ul2mPv59ilS",
    "outputId": "8eec398d-0d7c-4613-dbf5-12565b5c6dda"
   },
   "outputs": [
    {
     "name": "stdout",
     "output_type": "stream",
     "text": [
      "(150000, 784)\n",
      "(150000,)\n"
     ]
    }
   ],
   "source": [
    "print(images.shape)\n",
    "print(labels.shape)"
   ]
  },
  {
   "cell_type": "code",
   "execution_count": 21,
   "metadata": {
    "colab": {},
    "colab_type": "code",
    "id": "XZ0G2wpGbUh-"
   },
   "outputs": [],
   "source": [
    "images = images.reshape(images.shape[0], 28,28)"
   ]
  },
  {
   "cell_type": "code",
   "execution_count": 22,
   "metadata": {
    "colab": {
     "base_uri": "https://localhost:8080/",
     "height": 51
    },
    "colab_type": "code",
    "id": "e7jDwnildPHs",
    "outputId": "4dcc93b8-aa9a-4cb9-beeb-2e1a710ddf8a"
   },
   "outputs": [
    {
     "name": "stdout",
     "output_type": "stream",
     "text": [
      "(150000, 28, 28)\n",
      "(150000,)\n"
     ]
    }
   ],
   "source": [
    "print(images.shape)\n",
    "print(labels.shape)"
   ]
  },
  {
   "cell_type": "markdown",
   "metadata": {
    "colab_type": "text",
    "id": "62PPUa7QL45B"
   },
   "source": [
    "Pickle data:"
   ]
  },
  {
   "cell_type": "code",
   "execution_count": 24,
   "metadata": {
    "colab": {},
    "colab_type": "code",
    "id": "TaNTqA4lB9hC"
   },
   "outputs": [],
   "source": [
    "\n",
    "with open(\"C:/Users/mskac/machineLearning/CNN-on-Quick-Draw-dataset/pickles/images\", \"wb\") as f:\n",
    "    pickle.dump(images, f, protocol=4)\n",
    "with open(\"C:/Users/mskac/machineLearning/CNN-on-Quick-Draw-dataset/pickles/labels\", \"wb\") as f:\n",
    "    pickle.dump(labels, f, protocol=4)"
   ]
  },
  {
   "cell_type": "code",
   "execution_count": null,
   "metadata": {},
   "outputs": [],
   "source": []
  }
 ],
 "metadata": {
  "accelerator": "GPU",
  "colab": {
   "authorship_tag": "ABX9TyM4zL8xhUR9WMuUgxb1Hz3n",
   "collapsed_sections": [],
   "include_colab_link": true,
   "machine_shape": "hm",
   "name": "load_normalize_&_pickle_data.ipynb",
   "provenance": []
  },
  "kernelspec": {
   "display_name": "Python 3",
   "language": "python",
   "name": "python3"
  },
  "language_info": {
   "codemirror_mode": {
    "name": "ipython",
    "version": 3
   },
   "file_extension": ".py",
   "mimetype": "text/x-python",
   "name": "python",
   "nbconvert_exporter": "python",
   "pygments_lexer": "ipython3",
   "version": "3.7.6"
  }
 },
 "nbformat": 4,
 "nbformat_minor": 4
}
