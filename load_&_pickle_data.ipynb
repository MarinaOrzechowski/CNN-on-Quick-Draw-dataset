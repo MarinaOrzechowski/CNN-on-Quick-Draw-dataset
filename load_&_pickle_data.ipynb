{
  "nbformat": 4,
  "nbformat_minor": 0,
  "metadata": {
    "colab": {
      "name": "load_&_pickle_data.ipynb",
      "provenance": [],
      "machine_shape": "hm",
      "authorship_tag": "ABX9TyNrS9NSbumwTbWisww+u7VP",
      "include_colab_link": true
    },
    "kernelspec": {
      "name": "python3",
      "display_name": "Python 3"
    }
  },
  "cells": [
    {
      "cell_type": "markdown",
      "metadata": {
        "id": "view-in-github",
        "colab_type": "text"
      },
      "source": [
        "<a href=\"https://colab.research.google.com/github/MarinaOrzechowski/CNN-on-Quick-Draw-dataset/blob/master/load_%26_pickle_data.ipynb\" target=\"_parent\"><img src=\"https://colab.research.google.com/assets/colab-badge.svg\" alt=\"Open In Colab\"/></a>"
      ]
    },
    {
      "cell_type": "markdown",
      "metadata": {
        "id": "E0Bx-WB1-CLx",
        "colab_type": "text"
      },
      "source": [
        "#<center>**Load the data**</center>\n",
        "\n",
        "The data was taken from Quick, Draw! dataset: https://github.com/googlecreativelab/quickdraw-dataset .\n",
        "\n",
        "The Quick Draw Dataset is a collection of 50 million drawings across 345 categories, contributed by players of the game Quick, Draw!. The drawings were captured as timestamped vectors, tagged with metadata including what the player was asked to draw and in which country the player was located. You can browse the recognized drawings on [quickdraw.withgoogle.com/data](https://).\n",
        "\n",
        "For our project we will use a preprocessed dataset in .npy format. Each file includes >100000 images of a specific category. The total dataset size is 37 Gb, which is very difficult to work with.Therefore, we reduced the number of images for each category to 10000 (reduce_dataset.py) and the total dataset size to 2.5 Gb. However, Google Colab RAM of 25.5 Gb wasn't enough to process all 345 categories, so we only considered 100. \n",
        "\n",
        "Next step is to load the data and pickle it."
      ]
    },
    {
      "cell_type": "code",
      "metadata": {
        "id": "FU1tfXLUf813",
        "colab_type": "code",
        "outputId": "e91516ee-2e30-433d-ed8a-74db0fd4a02b",
        "colab": {
          "base_uri": "https://localhost:8080/",
          "height": 35
        }
      },
      "source": [
        "from google.colab import drive\n",
        "drive.mount('/content/gdrive')\n",
        "\n",
        "import numpy as np\n",
        "import os\n",
        "import pickle"
      ],
      "execution_count": 1,
      "outputs": [
        {
          "output_type": "stream",
          "text": [
            "Drive already mounted at /content/gdrive; to attempt to forcibly remount, call drive.mount(\"/content/gdrive\", force_remount=True).\n"
          ],
          "name": "stdout"
        }
      ]
    },
    {
      "cell_type": "code",
      "metadata": {
        "id": "rgSZ44bMgA_l",
        "colab_type": "code",
        "outputId": "9e029b65-bb6c-469b-e3fb-e2c6aa8ef3e5",
        "colab": {
          "base_uri": "https://localhost:8080/",
          "height": 55
        }
      },
      "source": [
        "files = os.listdir(\"/content/gdrive/My Drive/CTPproject/data\")\n",
        "x = []\n",
        "x_load = []\n",
        "y = []\n",
        "y_load = []\n",
        "print(files)"
      ],
      "execution_count": 2,
      "outputs": [
        {
          "output_type": "stream",
          "text": [
            "['ambulance.npy', 'alarm clock.npy', 'airplane.npy', 'bandage.npy', 'banana.npy', 'backpack.npy', 'axe.npy', 'asparagus.npy', 'arm.npy', 'apple.npy', 'ant.npy', 'angel.npy', 'beard.npy', 'bear.npy', 'beach.npy', 'bathtub.npy', 'bat.npy', 'basketball.npy', 'basket.npy', 'baseball.npy', 'baseball bat.npy', 'barn.npy', 'blueberry.npy', 'blackberry.npy', 'birthday cake.npy', 'bird.npy', 'binoculars.npy', 'bicycle.npy', 'bench.npy', 'belt.npy', 'bee.npy', 'bed.npy', 'bowtie.npy', 'boomerang.npy', 'book.npy', 'bucket.npy', 'broom.npy', 'broccoli.npy', 'bridge.npy', 'camera.npy', 'camel.npy', 'calendar.npy', 'calculator.npy', 'cake.npy', 'cactus.npy', 'butterfly.npy', 'bush.npy', 'bus.npy', 'bracelet.npy', 'bulldozer.npy', 'ceiling fan.npy', 'cat.npy', 'castle.npy', 'carrot.npy', 'car.npy', 'canoe.npy', 'cannon.npy', 'candle.npy', 'campfire.npy', 'camouflage.npy', 'compass.npy', 'coffee cup.npy', 'cloud.npy', 'clock.npy', 'clarinet.npy', 'circle.npy', 'church.npy', 'chandelier.npy', 'chair.npy', 'cello.npy', 'cell phone.npy', 'crown.npy', 'crocodile.npy', 'crab.npy', 'cow.npy', 'couch.npy', 'computer.npy', 'drill.npy', 'dragon.npy', 'door.npy', 'donut.npy', 'dolphin.npy', 'dog.npy', 'dishwasher.npy', 'cookie.npy', 'cooler.npy', 'cup.npy', 'diamond.npy', 'cruise ship.npy', 'envelope.npy', 'elephant.npy', 'ear.npy', 'dumbbell.npy', 'duck.npy', 'drums.npy', 'eyeglasses.npy', 'fish.npy', 'firetruck.npy', 'fireplace.npy', 'fire hydrant.npy', 'finger.npy', 'fence.npy', 'elbow.npy', 'feather.npy', 'fan.npy', 'face.npy', 'frying pan.npy', 'frog.npy', 'fork.npy', 'foot.npy', 'flying saucer.npy', 'flower.npy', 'floor lamp.npy', 'flip flops.npy', 'flashlight.npy', 'eraser.npy', 'flamingo.npy', 'eye.npy', 'hammer.npy', 'hamburger.npy', 'guitar.npy', 'grapes.npy', 'golf club.npy', 'goatee.npy', 'giraffe.npy', 'garden.npy', 'garden hose.npy', 'horse.npy', 'hockey stick.npy', 'hockey puck.npy', 'hexagon.npy', 'grass.npy', 'helmet.npy', 'helicopter.npy', 'hedgehog.npy', 'headphones.npy', 'hat.npy', 'harp.npy', 'hand.npy', 'jacket.npy', 'ice cream.npy', 'hurricane.npy', 'house plant.npy', 'hourglass.npy', 'hot air balloon.npy', 'hospital.npy', 'leaf.npy', 'laptop.npy', 'lantern.npy', 'ladder.npy', 'hot tub.npy', 'knife.npy', 'knee.npy', 'keyboard.npy', 'key.npy', 'kangaroo.npy', 'jail.npy', 'hot dog.npy', 'mailbox.npy', 'lollipop.npy', 'lobster.npy', 'lighthouse.npy', 'lighter.npy', 'light bulb.npy', 'leg.npy', 'motorbike.npy', 'mosquito.npy', 'moon.npy', 'monkey.npy', 'microwave.npy', 'line.npy', 'microphone.npy', 'lion.npy', 'mermaid.npy', 'lightning.npy', 'megaphone.npy', 'matches.npy', 'marker.npy', 'map.npy', 'octagon.npy', 'ocean.npy', 'nose.npy', 'necklace.npy', 'nail.npy', 'mushroom.npy', 'mug.npy', 'mouth.npy', 'moustache.npy', 'lipstick.npy', 'mouse.npy', 'mountain.npy', 'parachute.npy', 'paper clip.npy', 'pants.npy', 'panda.npy', 'palm tree.npy', 'paintbrush.npy', 'paint can.npy', 'owl.npy', 'oven.npy', 'onion.npy', 'octopus.npy', 'pillow.npy', 'pig.npy', 'picture frame.npy', 'pickup truck.npy', 'piano.npy', 'penguin.npy', 'pencil.npy', 'peas.npy', 'pear.npy', 'peanut.npy', 'passport.npy', 'parrot.npy', 'power outlet.npy', 'potato.npy', 'postcard.npy', 'popsicle.npy', 'pool.npy', 'pond.npy', 'police car.npy', 'pliers.npy', 'pizza.npy', 'pineapple.npy', 'river.npy', 'rifle.npy', 'rhinoceros.npy', 'remote control.npy', 'rake.npy', 'rainbow.npy', 'rain.npy', 'radio.npy', 'raccoon.npy', 'rabbit.npy', 'purse.npy', 'sea turtle.npy', 'screwdriver.npy', 'scorpion.npy', 'scissors.npy', 'school bus.npy', 'saxophone.npy', 'saw.npy', 'sandwich.npy', 'sailboat.npy', 'rollerskates.npy', 'roller coaster.npy', 'sleeping bag.npy', 'skyscraper.npy', 'skull.npy', 'skateboard.npy', 'sink.npy', 'shovel.npy', 'shorts.npy', 'shoe.npy', 'sheep.npy', 'shark.npy', 'speedboat.npy', 'sock.npy', 'soccer ball.npy', 'snowflake.npy', 'see saw.npy', 'snorkel.npy', 'snake.npy', 'snail.npy', 'smiley face.npy', 'stethoscope.npy', 'stereo.npy', 'steak.npy', 'snowman.npy', 'star.npy', 'stairs.npy', 'squiggle.npy', 'square.npy', 'spreadsheet.npy', 'spoon.npy', 'swing set.npy', 'brain.npy', 'bread.npy', 'sweater.npy', 'swan.npy', 'sun.npy', 'suitcase.npy', 'submarine.npy', 'string bean.npy', 'streetlight.npy', 'strawberry.npy', 'stove.npy', 'stop sign.npy', 'stitches.npy', 'The Great Wall of China.npy', 'The Eiffel Tower.npy', 'tent.npy', 'tennis racquet.npy', 'television.npy', 'telephone.npy', 'teddy-bear.npy', 'teapot.npy', 'table.npy', 'syringe.npy', 'sword.npy', 'traffic light.npy', 'tractor.npy', 'tornado.npy', 'toothpaste.npy', 'toothbrush.npy', 'toilet.npy', 'toe.npy', 'toaster.npy', 'tiger.npy', 'The Mona Lisa.npy', 'vase.npy', 'van.npy', 'underwear.npy', 'umbrella.npy', 'tooth.npy', 't-shirt.npy', 'trumpet.npy', 'truck.npy', 'trombone.npy', 'triangle.npy', 'tree.npy', 'train.npy', 'yoga.npy', 'wristwatch.npy', 'wine glass.npy', 'wine bottle.npy', 'windmill.npy', 'wheel.npy', 'whale.npy', 'waterslide.npy', 'watermelon.npy', 'washing machine.npy', 'violin.npy', 'zigzag.npy', 'zebra.npy', 'house.npy', 'squirrel.npy', 'spider.npy']\n"
          ],
          "name": "stdout"
        }
      ]
    },
    {
      "cell_type": "markdown",
      "metadata": {
        "id": "W4DmEcY0-RGQ",
        "colab_type": "text"
      },
      "source": [
        "Lets see how some of the images look like:"
      ]
    },
    {
      "cell_type": "code",
      "metadata": {
        "id": "memnOhNwoa12",
        "colab_type": "code",
        "outputId": "b15d2526-5506-4b7f-ded3-d16e237bbbe6",
        "colab": {
          "base_uri": "https://localhost:8080/",
          "height": 1000
        }
      },
      "source": [
        "# test print. how the data looks like?\n",
        "file = \"/content/gdrive/My Drive/CTPproject/data//\" + files[1]\n",
        "x_test = np.load(file) #returns an array of lists(images) with 784 elements(coordinates) in each (flattened 28x28)\n",
        "test_print = [x_test[i].reshape(28,28) for i in range(0, 10)]\n",
        "chars = 'x%#*+=-:. '  \n",
        "scale = (len(chars)-1)/255.\n",
        "print()\n",
        "for image in test_print:\n",
        "    for row in image:\n",
        "        print(' '.join(chars[int(value*scale)] for value in row))\n",
        "    print()   "
      ],
      "execution_count": 3,
      "outputs": [
        {
          "output_type": "stream",
          "text": [
            "\n",
            "x x x x x x x x x x x x x x x x x x x x x x x x x x x x\n",
            "x x x x x x x x x x x x x x x x x x x * + * * # x x x x\n",
            "x x x x * .   . * x x x x x x x x % :           = x x x\n",
            "x x x * . - * - . # x x x x x x x : : * x x x = . x x x\n",
            "x x # . - x x x - . x x x # * + = * x . : x x %   * x x\n",
            "x x + . x x x x +   - - .     . .   . + . : x x . + x x\n",
            "x x #   # x x * . .   : = + % x x % : . * . = %   * x x\n",
            "x x x . + x * . . . # x x x x x x x x - . =   +   # x x\n",
            "x x x = . * . . . - . : : % x x x x x x : . : .   % x x\n",
            "x x x x . . : . % : . . = x x x x x x x x . - * * x x x\n",
            "x x x x + - . = x : :   * x x x x x x x x + . # x x x x\n",
            "x x x x x + . x x . + = . # x x x x x x x x : : x x x x\n",
            "x x x x x + . x x * % x : . % x x x x x x x *   % x x x\n",
            "x x x x x + . x x x x x x . - x x x x x x x x . = x x x\n",
            "x x x x x *   x x x x x x *   * x x x % : # x = . x x x\n",
            "x x x x x *   % x x x x x x - . # x x x - . * #   % x x\n",
            "x x x x x #   # x x x x x x +   . = + + * -   =   # x x\n",
            "x x x x x %   * x x x x x x % . . : .       .   . + x x\n",
            "x x x x x x . = x x x x x x x x x x x x =   : * . = x x\n",
            "x x x x x x = . x x x x x x x x x x x x % # x x . = x x\n",
            "x x x x x x #   * x x x x x x x x x x x x x x x . + x x\n",
            "x x x x x x x - . x x x x x x x x x x x x x x x   + x x\n",
            "x x x x x x x % . . # x x x x x x x x x x x x + . % x x\n",
            "x x x x x x x x % : . + x x x x x x x x x x =   = x x x\n",
            "x x x x x x x x x x =   - % x x x % # + : . . + x x x x\n",
            "x x x x x x x x x x x * .             . - * % x x x x x\n",
            "x x x x x x x x x x x x x # * + * * # x x x x x x x x x\n",
            "x x x x x x x x x x x x x x x x x x x x x x x x x x x x\n",
            "\n",
            "x x x x x x x x x x x x x x x x x x x x x x x x x x x x\n",
            "x x x x x x x x x x x x x x # * * x x x x x x x x x x x\n",
            "x x x x x x * + = = + x x -       * x x x x x x x x x x\n",
            "x x x x = .   . . : . = #   * x - . x x x x # # x x x x\n",
            "x x % : . = x x x x : - + . x x %   * x x x : - x x x x\n",
            "x x : . % x x x x # . + : - x x x . = x x x : - x x x x\n",
            "x x . - * # # * :   : + . + x x x = : x x x : - x x x x\n",
            "x x - .         . . % + . - : : = +   x x x . - x x x x\n",
            "x x x x x % % x + . + :   . - = .     - % #   # x x x x\n",
            "x x x x x x x x * . . - + x x x % = . . : : . x x x x x\n",
            "x x x x x x x x +   * x x x x x x x x % . . # x x x x x\n",
            "x x x x x x x % . = x x x x x x x x x x # . = x x x x x\n",
            "x x x x x x x - . x x x x x x x x x x x x + . # x x x x\n",
            "x x x x x x %   * x x x x x x x x x x x x x : - x x x x\n",
            "x x x x x x - . x x x x x x x x x x x x x x * . % x x x\n",
            "x x x x x x . + x x x x x x x x x x x x x x x . = x x x\n",
            "x x x x x x   + x x x x x x x x x x x x x x x + . % x x\n",
            "x x x x x x   + x x x x x x x x x x x x x x x x . + x x\n",
            "x x x x x x   + x x x x x x x x x x x x x x x x = : x x\n",
            "x x x x x x   + x x x x x x x x x x x x x x x x *   x x\n",
            "x x x x x x . = x x x x x x x x x x x x x x x x *   % x\n",
            "x x x x x x = . % x x x x x x x x x x x x x x x *   x x\n",
            "x x x x x x % . . % x x x x x x x x x x x x x x = . x x\n",
            "x x x x x x x % : . * x x x x x x x x x x x x # . + x x\n",
            "x x x x x x x x x - . . = # x x x x x x x * :   : x x x\n",
            "x x x x x x x x x x % + .                   : * x x x x\n",
            "x x x x x x x x x x x x x # + + + + * * * # x x x x x x\n",
            "x x x x x x x x x x x x x x x x x x x x x x x x x x x x\n",
            "\n",
            "x x x x x x x x x x x x x x x x x x x x x x x x x x x x\n",
            "x x x x x x x * # x x x x x x x x x % # # x x x x x x x\n",
            "x x x x x * .     . + x x x x x % :       = x x x x x x\n",
            "x x x x % . - % % = . : x x x x . . * % +   * x x x x x\n",
            "x x x x - . x x x x % . - x x - . % x x x - : x x x x x\n",
            "x x x x - - x x x x x *   * % . + x x x x = . x x x x x\n",
            "x x x x = . x x x x # -         . - # x x - : x x x x x\n",
            "x x x x % . - x % :   : + * # * = .   : # . * x x x x x\n",
            "x x x x x *   : . : # x x x x x x x : . . * x x x x x x\n",
            "x x x x x x =   . # x x x x x x x - . * - . # x x x x x\n",
            "x x x x x % . - x x x x x x x x : . # x x - : x x x x x\n",
            "x x x x x - . x x x x x x % % : . # x x x #   * x x x x\n",
            "x x x x x . + x x x x x %   . . % x x x x x . = x x x x\n",
            "x x x x + . % x x x x x x = : % x x x x x x - : x x x x\n",
            "x x x x - : x x x x x x x x x x x x x x x x = : x x x x\n",
            "x x x x - - x x x x x x x x x * = x x x x x = : x x x x\n",
            "x x x x - - x x x x x x x x x * . = x x x x : - x x x x\n",
            "x x x x - : x x x x x x x x x x *   = x x % . + x x x x\n",
            "x x x x #   # x x x x x x x x x x +   = x - . x x x x x\n",
            "x x x x x . = x x x x x x x x x x x + . :   * x x x x x\n",
            "x x x x x + . # x x x x x x x x x x x + . . % x x x x x\n",
            "x x x x x x - . % . + x x x x x x x + . : - % x x x x x\n",
            "x x x x x x x % x = .   . : - - : . . = x x x x x x x x\n",
            "x x x x x x x x x % :   = - - : = + . : % x x x x x x x\n",
            "x x x x x x x x x : : # x x x x x x % : . # x x x x x x\n",
            "x x x x x x x x x * % x x x x x x x x x - . # x x x x x\n",
            "x x x x x x x x x x x x x x x x x x x x x * x x x x x x\n",
            "x x x x x x x x x x x x x x x x x x x x x x x x x x x x\n",
            "\n",
            "x x x x x x x x x x x x x x x x x x x x x x x x x x x x\n",
            "x x x x x % * % x x x x # x x x x x x x x x x x x x x x\n",
            "x x x x = .   . # x x +   . % x x x x x x = . : x x x x\n",
            "x x x : . + % : . # x + = . + x x x x x - . = . + x x x\n",
            "x x + . # x x x : . x x x : = x x x x #   * x - - x x x\n",
            "x x : - x x x x #   # # - . . : - = . : : x x - - x x x\n",
            "x x . + x x x x x . :   : = = = - : .   = x x - - x x x\n",
            "x x : : x x x # :   : * x x x x x x =   . # x . = x x x\n",
            "x x *   # x +   : * x x x x x x x x *   : . +   * x x x\n",
            "x x x : . =   = x x x x x x x x x x x # x : . : x x x x\n",
            "x x x % .   = x x x x x x x x x x x x x x % . : x x x x\n",
            "x x x x : : x x x x x x x x x x x x x x x x % . + x x x\n",
            "x x x #   # x x x x x x x x x x x x x x x x x = . x x x\n",
            "x x x - : x x x x x x x x x x x x x x x x x x %   * x x\n",
            "x x x . = x x x x x x x x x x x x x x x x x x x - - x x\n",
            "x x x . + x x x x x x x x x x x x x x x x x x x = : x x\n",
            "x x x   + x x x x x x x x x x x x x x x x x x x = : x x\n",
            "x x x : = x x x x x x x x x x x x x x x x x x x + . x x\n",
            "x x x = . x x x x x x x x x x x x x x x x x x x = . x x\n",
            "x x x *   % x x x x x x x x x x x x x x x x x x . - x x\n",
            "x x x x . - x x x x x x x x x x x x x x x x x #   # x x\n",
            "x x x x + . % x x x x x x x x x x x x x x x x : : x x x\n",
            "x x x x x . : x x x x x x x x x x x x x x + . . # x x x\n",
            "x x x x x % . - x x x x x x x x x x x * :   - % x x x x\n",
            "x x x x x x * . . = # % x x x x # = .   : # x x x x x x\n",
            "x x x x x x x x = .               . = # x x x x x x x x\n",
            "x x x x x x x x x x # * * * * * # x x x x x x x x x x x\n",
            "x x x x x x x x x x x x x x x x x x x x x x x x x x x x\n",
            "\n",
            "x x x x x x x x x x x x x x x x x x x x x x x x x x x x\n",
            "x x x x x x x x x x x x x x x x x x x x x x x x x x x x\n",
            "x x x x x x x x x x x x x x x x x x x x x x x x x x x x\n",
            "x x x x x x x x x x x x x x x x x x x x x x % # % x x x\n",
            "x x x x x x x x x x x x x x x x x x x * :       . # x x\n",
            "x x x x x x x x x x % = - - = = * x *   : * # % - . x x\n",
            "x x x x x x x x x x : . - - : . . x =   = x x x #   # x\n",
            "x x x x x x x x # +   + # % % *   # % + . . # x %   * x\n",
            "x x x x x * - .                               = - . x x\n",
            "x x x # : . : = * # * * + + * # # * * * :   - .   * x x\n",
            "x x * . : % % * - .           . - # x x x = . % + x x x\n",
            "x x : : x + .   : + # % % % * = : . * x x %   * x x x x\n",
            "x #   * =   = % x x x x x x x x x - . x x x   * x x x x\n",
            "x +   % . + x x x x x x x x x x x #   * x %   * x x x x\n",
            "x *   *   % x x x x x x x x x x x x : - x *   % x x x x\n",
            "x #   *   # x x x x x x x x x x x x - : x - : x x x x x\n",
            "x %   + . + x x x x x x x x x x x x = : x . + x x x x x\n",
            "x x - : = . % x x x x x x x x x x x . = *   % x x x x x\n",
            "x x *   # . : x x x x x x x x x x *   % - : x x x x x x\n",
            "x x x : : # . : x x x x x x x x % . - #   + x x x x x x\n",
            "x x x % . - # . : x x x x x % + . . % . : x x x x x x x\n",
            "x x x x # . - # . . + * + :   . - + : . % x x x x x x x\n",
            "x x x x x * . . - : .     : = + :   : # x x x x x x x x\n",
            "x x x x x x % + : .           . - # x x x x x x x x x x\n",
            "x x x x x x x x x x # * * # % x x x x x x x x x x x x x\n",
            "x x x x x x x x x x x x x x x x x x x x x x x x x x x x\n",
            "x x x x x x x x x x x x x x x x x x x x x x x x x x x x\n",
            "x x x x x x x x x x x x x x x x x x x x x x x x x x x x\n",
            "\n",
            "x x x x x x x x x x x x x x x x x x x x x x x x x x x x\n",
            "x x x x x x x x x x x x x x x x x x x x x % * * x x x x\n",
            "x x x x x x x % # % x x x x x x x x x x +       # x x x\n",
            "x x x x x x =       : # x x x x x x x x . - x . = x x x\n",
            "x x x x x %   + % * : . x x x x x x x *   % x : = x x x\n",
            "x x x x x x   * x x *   % x x x x x x - : x x : = x x x\n",
            "x x x x x x   + x x #   * % # * # # =   = % % : = x x x\n",
            "x x x x x *   + * = .                           = x x x\n",
            "x x x x x % .     . . .   . . . .   : + # # # * x x x x\n",
            "x x x x x x x % + . . - % x x x x + .   . * x x x x x x\n",
            "x x x x x x x +   - % x x x x x x x x # -   = x x x x x\n",
            "x x x x x x #   = x x x x x x x x x x x x +   # x x x x\n",
            "x x x x x x : : x x x x x x x x x x x x x x : : x x x x\n",
            "x x x x x *   # x x x x x x x x # x x x x x *   % x x x\n",
            "x x x x x : - x x x x x x x x = . x x x x x %   * x x x\n",
            "x x x x *   # x x x x x x x + = % x x x x x x   * x x x\n",
            "x x x x = . x x x x x x x :   . % x x x x x %   * x x x\n",
            "x x x x - - x x x x x x x . : # x x x x x x %   # x x x\n",
            "x x x x - - x x x x x x x = = x x x x x x x +   % x x x\n",
            "x x x x - : x x x x x x x x x x x x x x x * . = x x x x\n",
            "x x x x # . + x x x x x x x x x x x x x =   . x x x x x\n",
            "x x x x # . . % x x x x x x x x x x x :   - . : % x x x\n",
            "x x x % . . . : # x x x x x x x x # . . . : * . . # x x\n",
            "x x x - . : . :   - # % x x % * = . : % % . : =   # x x\n",
            "x x #   - : = x * .             . + x x x # .   - x x x\n",
            "x x % - .   * x x x # * * * * % x x x x x x x % x x x x\n",
            "x x x x % * x x x x x x x x x x x x x x x x x x x x x x\n",
            "x x x x x x x x x x x x x x x x x x x x x x x x x x x x\n",
            "\n",
            "x x x x x x x x x x x x x x x x x x x x x x x x x x x x\n",
            "x x x x x x x x x x x x x x x x x x # # x x x x x x x x\n",
            "x x x x x x x x x x x : # x x x x = .   . % x x x x x x\n",
            "x x x x x x x x x x +   . - # x #         + x x x x x x\n",
            "x x x x x x x x x x +       : = : . * * * x x x x x x x\n",
            "x x x x x x x x x x x - . . . .   . = x x x x x x x x x\n",
            "x x x x x x x x x x x + :       - + . : % x x x x x x x\n",
            "x x x x x x x x x # : . - * % * x x % . : x x x x x x x\n",
            "x x x x x x x x # . : % x x x % x x x # . = x x x x x x\n",
            "x x x x x x x # . - x x x x * . x x x x + . % x x x x x\n",
            "x x x x x x # . - x x x x x *   x x x x x . - x x x x x\n",
            "x x x x x # . : x x x x x x *   x x x x x *   % x x x x\n",
            "x x x x x - : x x x x x x x *   x x x x x %   * x x x x\n",
            "x x x x % . + x x x x x x x *   % x x x x x   * x x x x\n",
            "x x x x *   x x x x x x x x #   . . : : # x   * x x x x\n",
            "x x x x *   x x x x x x x x x % + = = - # %   * x x x x\n",
            "x x x x *   % x x x x x x x x x x x x x x = . % x x x x\n",
            "x x x x x . - x x x x x x x x x x x x % -   + x x x x x\n",
            "x x x x x # . . + x x x x x x x % + :   . * x x x x x x\n",
            "x x x x x x % - . . : - : . . .   . :   # x x x x x x x\n",
            "x x x x x x x x % + - . . . : = * x #   # x x x x x x x\n",
            "x x x x x x x x x x =   = x x x x x x . + x x x x x x x\n",
            "x x x x x x x x x *   + x x x x x x x - . x x x x x x x\n",
            "x x x x x x x x % . = x x x x x x x x #   * x x x x x x\n",
            "x x x x x x x x - . x x x x x x x x x x - . # x x x x x\n",
            "x x x x x x x #   * x x x x x x x x x x x * x x x x x x\n",
            "x x x x x x x x * x x x x x x x x x x x x x x x x x x x\n",
            "x x x x x x x x x x x x x x x x x x x x x x x x x x x x\n",
            "\n",
            "x x x x x x x x x x x x x x x x x x x x x x x x x x x x\n",
            "x x x x x x x * * # x x x x x x x x x x x x x x x x x x\n",
            "x x x x % - .       : x x x x x x x x x x x x x x x x x\n",
            "x x x # . . + % x *   % x x x x x x % = : : + x x x x x\n",
            "x x x : : x x x x x . = = x x x x * . . - - . . - % x x\n",
            "x x x . + x x x x x . -   % x x +   - x x x % +   * x x\n",
            "x x x . + x x x x #   +   # x # . = x x x x x x . + x x\n",
            "x x x : : * * * * . . # . + x .   + x x x x x = . # x x\n",
            "x x x % .                         . - * * * : . + x x x\n",
            "x x x x x x =   : * # # * * .               . # x x x x\n",
            "x x x x x +   + x x x x x x x % % # # * = - . . # x x x\n",
            "x x x x # . = x x x x x x x x x x x x x x x % - . x x x\n",
            "x x x x : : x x x x x x x x x x x x x x x x x #   % x x\n",
            "x x x *   # x x x x x x x x x x x x x x x x x %   # x x\n",
            "x x x : - x x x x x x x x x x x x x x x x x x x   * x x\n",
            "x x #   * x x x x x x x x x x x x x x x x x x %   * x x\n",
            "x x *   x x x x x x x x x x x x x x x x x x x %   # x x\n",
            "x x *   x x x x x x x x x x x x x x x x x x x #   # x x\n",
            "x x *   % x x x x x x x x x x x x x x x x x x #   % x x\n",
            "x x #   # x x x x x x x x x x x x x x x x x x *   % x x\n",
            "x x x . = x x x x x x x x x x x x x x x x x % . - x x x\n",
            "x x x + . % x x x x x x x x x x x x x x x x . : x x x x\n",
            "x x x x . - x x x x x x x x x x x x x x x : . % x x x x\n",
            "x x x x # . - x x x x x x x x x x x x * : . # x x x x x\n",
            "x x x x x * . . + x x x x % # * + = .   : % x x x x x x\n",
            "x x x x x x % - .               . : = # x x x x x x x x\n",
            "x x x x x x x x % * + + + * # x x x x x x x x x x x x x\n",
            "x x x x x x x x x x x x x x x x x x x x x x x x x x x x\n",
            "\n",
            "x x x x x x x x x x x x x x x x x x x x x x x x x x x x\n",
            "x x x x x x x x x x x x # * * # % x x x x x x x x x x x\n",
            "x x x x x x x x x x x % .         : x x x x x x x x x x\n",
            "x x x x x x x x x x x - . = . -     % x x x x x x x x x\n",
            "x x x x x x x x x x x . + = . x     # x x x x x x x x x\n",
            "x x x x x x x x x x *   % + . =     * x x x x x x x x x\n",
            "x x x x x x x x x x = . x *   . = : - x x x x x x x x x\n",
            "x x x x x x x x % +   - + = - + % = . x x x x x x x x x\n",
            "x x x x x x # - .   . . . . .     .   * x x x x x x x x\n",
            "x x x x x :   : + x x x x x x % * - .   - # x x x x x x\n",
            "x x x x : . # x x x x x x x x x x x x * :   - % x x x x\n",
            "x x x - . # x x x x x x + - x x x x x x x * . . x x x x\n",
            "x x #   * x x x x x x x - - x x x x x x x x % . - x x x\n",
            "x x *   % x x x x x x x . = x x x x x x x x x *   # x x\n",
            "x x + . x x x x x x x x . + x x x x x x x x x x   * x x\n",
            "x x + . x x x x x x x x   + x x x x x x x x x x . + x x\n",
            "x x *   x x x x x x x x   * x x x x x x x x x x . + x x\n",
            "x x #   % x x x x x x x   * x x x x x x x x x #   # x x\n",
            "x x %   * x x x x x x x . - x x x x x x x x x = . x x x\n",
            "x x x : - x x x x x x x # . + x x x x x x x x . = x x x\n",
            "x x x + . x x x x x x x x +   * x x x x x x #   # x x x\n",
            "x x x % . + x x x x x x x x - . % x x x x x : : x x x x\n",
            "x x x x = . % x x x x x x x x : : x x x x = . # x x x x\n",
            "x x x x x . : x x x x x x x x % = x x % :   + x x x x x\n",
            "x x x x x # . . + # + % x x x x x # = . : # x x x x x x\n",
            "x x x x x x % - .                   . + x x x x x x x x\n",
            "x x x x x x x x x # # # + + + + + # x x x x x x x x x x\n",
            "x x x x x x x x x x x x x x x x x x x x x x x x x x x x\n",
            "\n",
            "x x x x x x x x x x x x x x x x x x x x x x x x x x x x\n",
            "x x x x x x x x x x x x x x x * x x x x x x x x x x x x\n",
            "x x x x x x x x x x x x x x = . x x x x x x x x x x x x\n",
            "x x x x x x + . # x x x x x . = x x x + - - x x x x x x\n",
            "x x x x x x x : . * x x x * . % x x + . : - x x x x x x\n",
            "x x x x x x x x - . # x x * = x x x x # x x x x x x x x\n",
            "x x x x x x x x x : - x x x % # # % x x x x x x x x x x\n",
            "x x x x x x x x x x # = .           : % x x x x x x x x\n",
            "x x x x x x x x x -   . + * # # % * : . x x x x x x x x\n",
            "x x x x x x x x - . * x x x x x x x % . + x x x x x x x\n",
            "x x x x x x x %   * x x x x x x x x x - . x x x x x x x\n",
            "x x x x x x x %   # x x x x x x x x x %   * x x x x x x\n",
            "x x x x x x x x . : :     . . : - * x x : - x x x x x x\n",
            "x x x x x x x -   . = + .   : = :   : + . = x x x x x x\n",
            "x x x x x x -   + x x +     = x x # - . . # x x x x x x\n",
            "x x x x x = . * x x x - -   = x x x x % : . x x x x x x\n",
            "x x x x #   + x x x x x %   # x x x x x % . = x x x x x\n",
            "x x x x + . x x x x x x %   # x x x x x x + . % x x x x\n",
            "x x x x = : x x x x x x %   * x x x = = x x . - x x x x\n",
            "x x x x - : x x x x x x x   - - : : :   . % - - x x x x\n",
            "x x x x - - x x x x x x x .   : - - .   : # - - x x x x\n",
            "x x x x + . % x x x x x x % % x x x x * x x . = x x x x\n",
            "x x x x x : . # x x x x x x x x x x x x x +   # x x x x\n",
            "x x x x x % : . + % x x x x x x x x x x * . = x x x x x\n",
            "x x x x x x x = . . - * # x x x x % # -   - x x x x x x\n",
            "x x x x x x x x x + :                 : * x x x x x x x\n",
            "x x x x x x x x x x x x # * + + * # % x x x x x x x x x\n",
            "x x x x x x x x x x x x x x x x x x x x x x x x x x x x\n",
            "\n"
          ],
          "name": "stdout"
        }
      ]
    },
    {
      "cell_type": "code",
      "metadata": {
        "id": "lJo-9Oh2plDZ",
        "colab_type": "code",
        "colab": {}
      },
      "source": [
        "def load_data():\n",
        "  '''function which reads each data file in the testdata directory and extracts lists of pixels'''\n",
        "  x_load.clear()\n",
        "  y_load.clear()\n",
        "  count = 0\n",
        "  for num, file in enumerate(files[:100]):\n",
        "      file = \"/content/gdrive/My Drive/CTPproject/data/\" + file\n",
        "      x = np.load(file)\n",
        "      x = x / 255.\n",
        "      x = x[:10000, :] # consider only first 10000 images for each category\n",
        "      x_load.append(x)\n",
        "      y = [count for _ in range(10000)]\n",
        "      count += 1\n",
        "      y = np.array(y)\n",
        "      y = y.reshape(y.shape[0], 1)\n",
        "      y_load.append(y)\n",
        "      print(num)\n",
        "\n",
        "  return x_load, y_load"
      ],
      "execution_count": 0,
      "outputs": []
    },
    {
      "cell_type": "code",
      "metadata": {
        "id": "mWyaSmJ0pmTV",
        "colab_type": "code",
        "outputId": "62a54016-3bf6-4ca4-ed35-130089acbd06",
        "colab": {
          "base_uri": "https://localhost:8080/",
          "height": 1000
        }
      },
      "source": [
        "images, labels = load_data()\n",
        "images = np.array(images)\n",
        "labels = np.array(labels)"
      ],
      "execution_count": 5,
      "outputs": [
        {
          "output_type": "stream",
          "text": [
            "0\n",
            "1\n",
            "2\n",
            "3\n",
            "4\n",
            "5\n",
            "6\n",
            "7\n",
            "8\n",
            "9\n",
            "10\n",
            "11\n",
            "12\n",
            "13\n",
            "14\n",
            "15\n",
            "16\n",
            "17\n",
            "18\n",
            "19\n",
            "20\n",
            "21\n",
            "22\n",
            "23\n",
            "24\n",
            "25\n",
            "26\n",
            "27\n",
            "28\n",
            "29\n",
            "30\n",
            "31\n",
            "32\n",
            "33\n",
            "34\n",
            "35\n",
            "36\n",
            "37\n",
            "38\n",
            "39\n",
            "40\n",
            "41\n",
            "42\n",
            "43\n",
            "44\n",
            "45\n",
            "46\n",
            "47\n",
            "48\n",
            "49\n",
            "50\n",
            "51\n",
            "52\n",
            "53\n",
            "54\n",
            "55\n",
            "56\n",
            "57\n",
            "58\n",
            "59\n",
            "60\n",
            "61\n",
            "62\n",
            "63\n",
            "64\n",
            "65\n",
            "66\n",
            "67\n",
            "68\n",
            "69\n",
            "70\n",
            "71\n",
            "72\n",
            "73\n",
            "74\n",
            "75\n",
            "76\n",
            "77\n",
            "78\n",
            "79\n",
            "80\n",
            "81\n",
            "82\n",
            "83\n",
            "84\n",
            "85\n",
            "86\n",
            "87\n",
            "88\n",
            "89\n",
            "90\n",
            "91\n",
            "92\n",
            "93\n",
            "94\n",
            "95\n",
            "96\n",
            "97\n",
            "98\n",
            "99\n"
          ],
          "name": "stdout"
        }
      ]
    },
    {
      "cell_type": "code",
      "metadata": {
        "id": "8qYiCiVl_MUa",
        "colab_type": "code",
        "outputId": "2db252d2-49c9-4307-a7f9-9f779082f9a0",
        "colab": {
          "base_uri": "https://localhost:8080/",
          "height": 52
        }
      },
      "source": [
        "print(images.shape)\n",
        "print(labels.shape)"
      ],
      "execution_count": 6,
      "outputs": [
        {
          "output_type": "stream",
          "text": [
            "(100, 10000, 784)\n",
            "(100, 10000, 1)\n"
          ],
          "name": "stdout"
        }
      ]
    },
    {
      "cell_type": "markdown",
      "metadata": {
        "id": "fq0ucYhXEkPV",
        "colab_type": "text"
      },
      "source": [
        "Flatten data:"
      ]
    },
    {
      "cell_type": "code",
      "metadata": {
        "id": "1Q8Ky9r_2uTm",
        "colab_type": "code",
        "colab": {}
      },
      "source": [
        "images=images.reshape(images.shape[0]*images.shape[1],images.shape[2])\n",
        "labels=labels.reshape(labels.shape[0]*labels.shape[1],labels.shape[2])"
      ],
      "execution_count": 0,
      "outputs": []
    },
    {
      "cell_type": "code",
      "metadata": {
        "id": "8Ul2mPv59ilS",
        "colab_type": "code",
        "outputId": "98ed0790-f7d9-4666-edf1-f042d3a9a374",
        "colab": {
          "base_uri": "https://localhost:8080/",
          "height": 52
        }
      },
      "source": [
        "print(images.shape)\n",
        "print(labels.shape)"
      ],
      "execution_count": 8,
      "outputs": [
        {
          "output_type": "stream",
          "text": [
            "(1000000, 784)\n",
            "(1000000, 1)\n"
          ],
          "name": "stdout"
        }
      ]
    },
    {
      "cell_type": "markdown",
      "metadata": {
        "id": "62PPUa7QL45B",
        "colab_type": "text"
      },
      "source": [
        "Pickle data:"
      ]
    },
    {
      "cell_type": "code",
      "metadata": {
        "id": "TaNTqA4lB9hC",
        "colab_type": "code",
        "colab": {}
      },
      "source": [
        "\n",
        "with open(\"/content/gdrive/My Drive/CTPproject/images\", \"wb\") as f:\n",
        "    pickle.dump(images, f, protocol=4)\n",
        "with open(\"/content/gdrive/My Drive/CTPproject/labels\", \"wb\") as f:\n",
        "    pickle.dump(labels, f, protocol=4)"
      ],
      "execution_count": 0,
      "outputs": []
    }
  ]
}