{
  "nbformat": 4,
  "nbformat_minor": 0,
  "metadata": {
    "colab": {
      "name": "load_&_pickle_data.ipynb",
      "provenance": [],
      "machine_shape": "hm",
      "authorship_tag": "ABX9TyPVqFvs0uQ/KFYFlCVKcmhb",
      "include_colab_link": true
    },
    "kernelspec": {
      "name": "python3",
      "display_name": "Python 3"
    }
  },
  "cells": [
    {
      "cell_type": "markdown",
      "metadata": {
        "id": "view-in-github",
        "colab_type": "text"
      },
      "source": [
        "<a href=\"https://colab.research.google.com/github/MarinaOrzechowski/CNN-on-Quick-Draw-dataset/blob/master/load_%26_pickle_data.ipynb\" target=\"_parent\"><img src=\"https://colab.research.google.com/assets/colab-badge.svg\" alt=\"Open In Colab\"/></a>"
      ]
    },
    {
      "cell_type": "markdown",
      "metadata": {
        "id": "E0Bx-WB1-CLx",
        "colab_type": "text"
      },
      "source": [
        "#<center>**Load the data**</center>\n",
        "\n",
        "The data was taken from Quick, Draw! dataset: https://github.com/googlecreativelab/quickdraw-dataset .\n",
        "\n",
        "The Quick Draw Dataset is a collection of 50 million drawings across 345 categories, contributed by players of the game Quick, Draw!. The drawings were captured as timestamped vectors, tagged with metadata including what the player was asked to draw and in which country the player was located. You can browse the recognized drawings on [quickdraw.withgoogle.com/data](https://).\n",
        "\n",
        "For our project we will use a preprocessed dataset in .npy format. Each file includes >100000 images of a specific category. The total dataset size is 37 Gb, which is very difficult to work with.Therefore, we reduced the number of images for each category to 10000 (reduce_dataset.py) and the total dataset size to 2.5 Gb. However, Google Colab RAM of 25.5 Gb wasn't enough to process all 345 categories, so we are planning to consider only 100. Currently it is 10 for, just for education purpose. \n",
        "\n",
        "Next step is to load the data and pickle it."
      ]
    },
    {
      "cell_type": "code",
      "metadata": {
        "id": "FU1tfXLUf813",
        "colab_type": "code",
        "outputId": "74086c2a-5903-4304-ec87-2e6435538606",
        "colab": {
          "base_uri": "https://localhost:8080/",
          "height": 35
        }
      },
      "source": [
        "from google.colab import drive\n",
        "drive.mount('/content/gdrive')\n",
        "\n",
        "import numpy as np\n",
        "import os\n",
        "import pickle\n",
        "\n",
        "import matplotlib.pyplot as plt\n",
        "%matplotlib inline"
      ],
      "execution_count": 92,
      "outputs": [
        {
          "output_type": "stream",
          "text": [
            "Drive already mounted at /content/gdrive; to attempt to forcibly remount, call drive.mount(\"/content/gdrive\", force_remount=True).\n"
          ],
          "name": "stdout"
        }
      ]
    },
    {
      "cell_type": "code",
      "metadata": {
        "id": "rgSZ44bMgA_l",
        "colab_type": "code",
        "outputId": "6a00e07a-6fc3-4550-8afa-bef9f82a256b",
        "colab": {
          "base_uri": "https://localhost:8080/",
          "height": 55
        }
      },
      "source": [
        "files = os.listdir(\"/content/gdrive/My Drive/CTPproject/data\")\n",
        "img_per_category = 10000\n",
        "num_of_categories = 10\n",
        "x = []\n",
        "x_load = []\n",
        "y = []\n",
        "y_load = []\n",
        "print(files)"
      ],
      "execution_count": 93,
      "outputs": [
        {
          "output_type": "stream",
          "text": [
            "['airplane.npy', 'alarm clock.npy', 'angel.npy', 'ambulance.npy', 'ant.npy', 'apple.npy', 'arm.npy', 'asparagus.npy', 'axe.npy', 'backpack.npy', 'bandage.npy', 'banana.npy', 'baseball bat.npy', 'baseball.npy', 'barn.npy', 'bat.npy', 'basket.npy', 'basketball.npy', 'bear.npy', 'bathtub.npy', 'beach.npy', 'beard.npy', 'bed.npy', 'bee.npy', 'bench.npy', 'bicycle.npy', 'belt.npy', 'binoculars.npy', 'birthday cake.npy', 'bird.npy', 'book.npy', 'blackberry.npy', 'blueberry.npy', 'boomerang.npy', 'bowtie.npy', 'bracelet.npy', 'brain.npy', 'bridge.npy', 'bread.npy', 'broom.npy', 'bucket.npy', 'broccoli.npy', 'bulldozer.npy', 'bus.npy', 'bush.npy', 'cake.npy', 'cactus.npy', 'butterfly.npy', 'calculator.npy', 'calendar.npy', 'camel.npy', 'camouflage.npy', 'camera.npy', 'cannon.npy', 'campfire.npy', 'candle.npy', 'canoe.npy', 'carrot.npy', 'car.npy', 'castle.npy', 'cell phone.npy', 'ceiling fan.npy', 'cat.npy', 'chair.npy', 'cello.npy', 'church.npy', 'circle.npy', 'chandelier.npy', 'clarinet.npy', 'cloud.npy', 'clock.npy', 'coffee cup.npy', 'compass.npy', 'computer.npy', 'cookie.npy', 'cooler.npy', 'cow.npy', 'crab.npy', 'couch.npy', 'crown.npy', 'cruise ship.npy', 'crocodile.npy', 'diamond.npy', 'cup.npy', 'dishwasher.npy', 'dolphin.npy', 'donut.npy', 'dog.npy', 'drill.npy', 'dragon.npy', 'door.npy', 'drums.npy', 'duck.npy', 'dumbbell.npy', 'elbow.npy', 'ear.npy', 'eraser.npy', 'elephant.npy', 'eye.npy', 'envelope.npy', 'eyeglasses.npy', 'face.npy', 'fan.npy', 'fence.npy', 'feather.npy', 'fire hydrant.npy', 'finger.npy', 'fireplace.npy', 'firetruck.npy', 'fish.npy', 'flamingo.npy', 'flashlight.npy', 'flip flops.npy', 'flower.npy', 'floor lamp.npy', 'flying saucer.npy', 'foot.npy', 'fork.npy', 'frying pan.npy', 'frog.npy', 'garden hose.npy', 'giraffe.npy', 'garden.npy', 'goatee.npy', 'golf club.npy', 'guitar.npy', 'grass.npy', 'grapes.npy', 'hammer.npy', 'hamburger.npy', 'harp.npy', 'hand.npy', 'headphones.npy', 'hedgehog.npy', 'hat.npy', 'helicopter.npy', 'helmet.npy', 'hexagon.npy', 'hockey stick.npy', 'hockey puck.npy', 'hot air balloon.npy', 'hospital.npy', 'horse.npy', 'hot tub.npy', 'hot dog.npy', 'hourglass.npy', 'house.npy', 'hurricane.npy', 'house plant.npy', 'jacket.npy', 'jail.npy', 'ice cream.npy', 'kangaroo.npy', 'key.npy', 'keyboard.npy', 'knee.npy', 'knife.npy', 'ladder.npy', 'lantern.npy', 'leaf.npy', 'laptop.npy', 'leg.npy', 'light bulb.npy', 'lighter.npy', 'lightning.npy', 'lighthouse.npy', 'line.npy', 'lion.npy', 'lipstick.npy', 'lobster.npy', 'lollipop.npy', 'map.npy', 'mailbox.npy', 'marker.npy', 'matches.npy', 'mermaid.npy', 'microphone.npy', 'megaphone.npy', 'moon.npy', 'monkey.npy', 'microwave.npy', 'mountain.npy', 'motorbike.npy', 'mosquito.npy', 'moustache.npy', 'mouth.npy', 'mouse.npy', 'mushroom.npy', 'mug.npy', 'nail.npy', 'nose.npy', 'necklace.npy', 'octopus.npy', 'octagon.npy', 'ocean.npy', 'onion.npy', 'oven.npy', 'paintbrush.npy', 'paint can.npy', 'owl.npy', 'palm tree.npy', 'pants.npy', 'panda.npy', 'parachute.npy', 'paper clip.npy', 'parrot.npy', 'passport.npy', 'pear.npy', 'peanut.npy', 'pencil.npy', 'peas.npy', 'picture frame.npy', 'pickup truck.npy', 'piano.npy', 'penguin.npy', 'pillow.npy', 'pig.npy', 'pizza.npy', 'pineapple.npy', 'pliers.npy', 'police car.npy', 'pond.npy', 'pool.npy', 'popsicle.npy', 'postcard.npy', 'purse.npy', 'power outlet.npy', 'potato.npy', 'rabbit.npy', 'raccoon.npy', 'radio.npy', 'rainbow.npy', 'rake.npy', 'rain.npy', 'rhinoceros.npy', 'remote control.npy', 'river.npy', 'roller coaster.npy', 'rifle.npy', 'saw.npy', 'sailboat.npy', 'sandwich.npy', 'rollerskates.npy', 'saxophone.npy', 'school bus.npy', 'scissors.npy', 'sea turtle.npy', 'screwdriver.npy', 'scorpion.npy', 'sheep.npy', 'shark.npy', 'see saw.npy', 'shovel.npy', 'shorts.npy', 'shoe.npy', 'skateboard.npy', 'skull.npy', 'sink.npy', 'smiley face.npy', 'skyscraper.npy', 'sleeping bag.npy', 'snorkel.npy', 'snake.npy', 'snail.npy', 'snowflake.npy', 'snowman.npy', 'sock.npy', 'soccer ball.npy', 'spider.npy', 'speedboat.npy', 'square.npy', 'spoon.npy', 'spreadsheet.npy', 'stairs.npy', 'squirrel.npy', 'squiggle.npy', 'stereo.npy', 'star.npy', 'steak.npy', 'stitches.npy', 'stove.npy', 'stop sign.npy', 'stethoscope.npy', 'streetlight.npy', 'strawberry.npy', 'string bean.npy', 'sun.npy', 'suitcase.npy', 'submarine.npy', 'swan.npy', 'swing set.npy', 'sweater.npy', 'syringe.npy', 't-shirt.npy', 'sword.npy', 'table.npy', 'teapot.npy', 'teddy-bear.npy', 'television.npy', 'tennis racquet.npy', 'telephone.npy', 'The Great Wall of China.npy', 'tent.npy', 'The Eiffel Tower.npy', 'tiger.npy', 'toaster.npy', 'The Mona Lisa.npy', 'toilet.npy', 'tooth.npy', 'toe.npy', 'toothbrush.npy', 'tornado.npy', 'toothpaste.npy', 'traffic light.npy', 'train.npy', 'tractor.npy', 'tree.npy', 'triangle.npy', 'trombone.npy', 'trumpet.npy', 'truck.npy', 'van.npy', 'umbrella.npy', 'underwear.npy', 'vase.npy', 'washing machine.npy', 'violin.npy', 'watermelon.npy', 'whale.npy', 'waterslide.npy', 'windmill.npy', 'wheel.npy', 'wine bottle.npy', 'wristwatch.npy', 'wine glass.npy', 'zigzag.npy', 'yoga.npy', 'zebra.npy']\n"
          ],
          "name": "stdout"
        }
      ]
    },
    {
      "cell_type": "markdown",
      "metadata": {
        "id": "W4DmEcY0-RGQ",
        "colab_type": "text"
      },
      "source": [
        "Lets see how some of the images look like:"
      ]
    },
    {
      "cell_type": "code",
      "metadata": {
        "id": "memnOhNwoa12",
        "colab_type": "code",
        "outputId": "7e2d5d99-7077-43a0-c8b2-a8e008eb7f58",
        "colab": {
          "base_uri": "https://localhost:8080/",
          "height": 224
        }
      },
      "source": [
        "# test print. how the data looks like?\n",
        "file = \"/content/gdrive/My Drive/CTPproject/data//\" + files[1]\n",
        "x_test = np.load(file) #returns an array of lists(images) with 784 elements(coordinates) in each (flattened 28x28)\n",
        "x_test = x_test.reshape(x_test.shape[0], 28,28)\n",
        "\n",
        "fig, ax = plt.subplots(nrows=2, ncols=5, sharex=True, sharey=True)\n",
        "ax = ax.flatten()\n",
        "for i in range(10):\n",
        "    img = x_test[i].reshape(28, 28)\n",
        "    ax[i].imshow(img, cmap='Greys', interpolation='nearest')\n",
        "ax[0].set_xticks([])\n",
        "ax[0].set_yticks([])\n",
        "plt.tight_layout()\n",
        "plt.show()"
      ],
      "execution_count": 94,
      "outputs": [
        {
          "output_type": "display_data",
          "data": {
            "image/png": "[encoded data removed]",
            "text/plain": [
              "<Figure size 432x288 with 10 Axes>"
            ]
          },
          "metadata": {
            "tags": []
          }
        }
      ]
    },
    {
      "cell_type": "code",
      "metadata": {
        "id": "lJo-9Oh2plDZ",
        "colab_type": "code",
        "colab": {}
      },
      "source": [
        "def load_data():\n",
        "  '''function which reads each data file in the testdata directory and extracts lists of pixels'''\n",
        "  x_load.clear()\n",
        "  y_load.clear()\n",
        "  count = 0\n",
        "  for num, file in enumerate(files[:num_of_categories]):\n",
        "      file = \"/content/gdrive/My Drive/CTPproject/data/\" + file\n",
        "      x = np.load(file)\n",
        "      x = x / 255.\n",
        "      x = x[:img_per_category, :] # consider only first 10000 images for each category\n",
        "      x_load.append(x)\n",
        "      y = [count for _ in range(img_per_category)]\n",
        "      count += 1\n",
        "      y = np.array(y)\n",
        "      y_load.append(y)\n",
        "\n",
        "  return x_load, y_load"
      ],
      "execution_count": 0,
      "outputs": []
    },
    {
      "cell_type": "code",
      "metadata": {
        "id": "mWyaSmJ0pmTV",
        "colab_type": "code",
        "colab": {}
      },
      "source": [
        "images, labels = load_data()\n",
        "images = np.array(images)\n",
        "labels = np.array(labels)"
      ],
      "execution_count": 0,
      "outputs": []
    },
    {
      "cell_type": "code",
      "metadata": {
        "id": "8qYiCiVl_MUa",
        "colab_type": "code",
        "outputId": "afab5c50-ab80-4991-eb28-385a4d2cdefd",
        "colab": {
          "base_uri": "https://localhost:8080/",
          "height": 52
        }
      },
      "source": [
        "print(images.shape)\n",
        "print(labels.shape)"
      ],
      "execution_count": 109,
      "outputs": [
        {
          "output_type": "stream",
          "text": [
            "(10, 10000, 784)\n",
            "(10, 10000)\n"
          ],
          "name": "stdout"
        }
      ]
    },
    {
      "cell_type": "markdown",
      "metadata": {
        "id": "fq0ucYhXEkPV",
        "colab_type": "text"
      },
      "source": [
        "Reshape data:"
      ]
    },
    {
      "cell_type": "code",
      "metadata": {
        "id": "1Q8Ky9r_2uTm",
        "colab_type": "code",
        "colab": {}
      },
      "source": [
        "images=images.reshape(images.shape[0]*images.shape[1],images.shape[2])\n",
        "labels=labels.reshape(labels.shape[0]*labels.shape[1])"
      ],
      "execution_count": 0,
      "outputs": []
    },
    {
      "cell_type": "code",
      "metadata": {
        "id": "8Ul2mPv59ilS",
        "colab_type": "code",
        "outputId": "e9cdcf8b-ed24-4cfa-ecbe-b6413ed684c2",
        "colab": {
          "base_uri": "https://localhost:8080/",
          "height": 52
        }
      },
      "source": [
        "print(images.shape)\n",
        "print(labels.shape)"
      ],
      "execution_count": 111,
      "outputs": [
        {
          "output_type": "stream",
          "text": [
            "(100000, 784)\n",
            "(100000,)\n"
          ],
          "name": "stdout"
        }
      ]
    },
    {
      "cell_type": "code",
      "metadata": {
        "id": "XZ0G2wpGbUh-",
        "colab_type": "code",
        "colab": {}
      },
      "source": [
        "images = images.reshape(images.shape[0], 28,28)"
      ],
      "execution_count": 0,
      "outputs": []
    },
    {
      "cell_type": "code",
      "metadata": {
        "id": "e7jDwnildPHs",
        "colab_type": "code",
        "colab": {
          "base_uri": "https://localhost:8080/",
          "height": 52
        },
        "outputId": "0be743cd-f97f-4338-c841-921e73a678e4"
      },
      "source": [
        "print(images.shape)\n",
        "print(labels.shape)"
      ],
      "execution_count": 113,
      "outputs": [
        {
          "output_type": "stream",
          "text": [
            "(100000, 28, 28)\n",
            "(100000,)\n"
          ],
          "name": "stdout"
        }
      ]
    },
    {
      "cell_type": "markdown",
      "metadata": {
        "id": "62PPUa7QL45B",
        "colab_type": "text"
      },
      "source": [
        "Pickle data:"
      ]
    },
    {
      "cell_type": "code",
      "metadata": {
        "id": "TaNTqA4lB9hC",
        "colab_type": "code",
        "colab": {}
      },
      "source": [
        "\n",
        "with open(\"/content/gdrive/My Drive/CTPproject/imagesTest\", \"wb\") as f:\n",
        "    pickle.dump(images, f, protocol=4)\n",
        "with open(\"/content/gdrive/My Drive/CTPproject/labelsTest\", \"wb\") as f:\n",
        "    pickle.dump(labels, f, protocol=4)"
      ],
      "execution_count": 0,
      "outputs": []
    }
  ]
}